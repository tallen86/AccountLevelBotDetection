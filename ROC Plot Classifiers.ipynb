{
 "cells": [
  {
   "cell_type": "code",
   "execution_count": 1,
   "metadata": {},
   "outputs": [
    {
     "name": "stdout",
     "output_type": "stream",
     "text": [
      "Python 3.7.0 (default, Jun 28 2018, 08:04:48) [MSC v.1912 64 bit (AMD64)]\n",
      "0.20.3\n"
     ]
    }
   ],
   "source": [
    "import pandas as pd\n",
    "import numpy as np\n",
    "import matplotlib.pyplot as plt\n",
    "import seaborn as sns\n",
    "from sklearn.feature_extraction.stop_words import ENGLISH_STOP_WORDS\n",
    "import nltk\n",
    "from nltk import word_tokenize\n",
    "from nltk.corpus import stopwords\n",
    "from nltk.stem import PorterStemmer\n",
    "import string\n",
    "from scipy import interp\n",
    "from scipy.sparse import hstack, csr_matrix\n",
    "\n",
    "import sklearn.metrics as metrics\n",
    "from sklearn.linear_model import LogisticRegression\n",
    "from sklearn.naive_bayes import MultinomialNB\n",
    "from sklearn.ensemble import RandomForestClassifier\n",
    "from sklearn import svm\n",
    "from sklearn.tree import DecisionTreeClassifier\n",
    "\n",
    "import sklearn\n",
    "from sklearn.feature_extraction.text import TfidfVectorizer\n",
    "from sklearn.metrics import accuracy_score, roc_curve, auc\n",
    "from sklearn.model_selection import train_test_split\n",
    "from sklearn.ensemble import BaggingClassifier\n",
    "from sklearn.ensemble import AdaBoostClassifier\n",
    "from sklearn.ensemble import VotingClassifier\n",
    "from sklearn.ensemble import GradientBoostingClassifier\n",
    "from sklearn.model_selection import cross_val_predict\n",
    "from sklearn.model_selection import KFold\n",
    "\n",
    "import warnings\n",
    "warnings.filterwarnings(\"ignore\")\n",
    "\n",
    "# CTRL + SHIFT + P => Run Code \n",
    "import sys\n",
    "print('Python', sys.version)\n",
    "print(sklearn.__version__)"
   ]
  },
  {
   "cell_type": "markdown",
   "metadata": {},
   "source": [
    "### Results Collection"
   ]
  },
  {
   "cell_type": "code",
   "execution_count": 2,
   "metadata": {},
   "outputs": [],
   "source": [
    "global ResultsCollection \n",
    "ResultsCollection = pd.DataFrame(columns=('Algorithm', 'FeatureSet', 'TestAcc', 'TestAUC'))\n",
    "\n",
    "global testSize\n",
    "testSize = 0.25\n",
    "\n",
    "# Create Folder to save too\n",
    "\n",
    "from datetime import datetime\n",
    "import os\n",
    "\n",
    "date = datetime.now().strftime(\"%Y%m%d-%H%M%S\")\n",
    "\n",
    "global path\n",
    "path = \"D:\\\\0_MyFiles\\\\0_Libraries\\\\Documents\\\\Education\\\\University\\\\Year 3\\\\FYP_Git\\\\ROC Curves\\\\\"\n",
    "\n",
    "import os\n",
    "if not os.path.exists(path):\n",
    "    os.makedirs(path)"
   ]
  },
  {
   "cell_type": "markdown",
   "metadata": {},
   "source": [
    "# Feature Set List"
   ]
  },
  {
   "cell_type": "code",
   "execution_count": 3,
   "metadata": {},
   "outputs": [],
   "source": [
    "# Switch for multiple feautre sets\n",
    "def getFeatureSet(number):\n",
    "    return {\n",
    "        1 : ['followers_count', 'friends_count', 'statuses_count', 'favourites_count', 'listed_count', 'verified', 'bot'],\n",
    "        2 : ['followers_count', 'friends_count', 'statuses_count', 'favourites_count', 'listed_count_binary', 'verified', \n",
    "             'name_binary','description_binary', 'screen_name_binary','bot'],\n",
    "        3 : ['followers_count', 'friends_count', 'statuses_count', 'favourites_count', 'listed_count', 'verified', \n",
    "             'name_binary','description_binarySTEM', 'screen_name_binary','bot'],        \n",
    "        99 : ['followers_count', 'friends_count', 'statuses_count', 'favourites_count', 'listed_count', 'verified', \n",
    "              'name', 'screen_name', 'description', 'bot'],\n",
    "    }[number]"
   ]
  },
  {
   "cell_type": "markdown",
   "metadata": {},
   "source": [
    "# Import Training Data"
   ]
  },
  {
   "cell_type": "code",
   "execution_count": 4,
   "metadata": {},
   "outputs": [],
   "source": [
    "# Read training data from csv\n",
    "training_data = pd.read_csv('training_data.csv')\n",
    "t2 = pd.read_csv('genuine_accounts_users.csv')\n",
    "t3 = pd.read_csv('fake_followers_users.csv')\n",
    "training_data['description'].fillna(' ', inplace=True)\n",
    "\n",
    "features = getFeatureSet(99)\n",
    "\n",
    "t2['bot'] = 0\n",
    "t3['bot'] = 1\n",
    "\n",
    "t2 = t2[features]\n",
    "t3 = t3[features]\n",
    "training_data = training_data[features]\n",
    "\n",
    "new_data = t2.append(t3, ignore_index=True)\n",
    "training_data = new_data.append(training_data, ignore_index=True)\n",
    "\n",
    "training_data = training_data.sample(frac=1).reset_index(drop=True)\n",
    "training_data['description'].fillna(' ', inplace=True)\n",
    "training_data['verified'].fillna('0', inplace=True)"
   ]
  },
  {
   "cell_type": "markdown",
   "metadata": {},
   "source": [
    "# Feature Development"
   ]
  },
  {
   "cell_type": "markdown",
   "metadata": {},
   "source": [
    "### Stemming applied to description"
   ]
  },
  {
   "cell_type": "code",
   "execution_count": 5,
   "metadata": {},
   "outputs": [],
   "source": [
    "def getTextDesc(desc):\n",
    "    try:\n",
    "        if isinstance(desc, float):\n",
    "            return ''\n",
    "        return desc\n",
    "    except Exception as error:\n",
    "        return ''\n",
    "    \n",
    "training_data['description'] = training_data.apply(lambda row: getTextDesc(row['description']), axis=1)\n",
    "\n",
    "def stemLine(sentence):\n",
    "    stemmer = nltk.PorterStemmer()\n",
    "    translator=sentence.translate(str.maketrans(\"\",\"\", string.punctuation))\n",
    "    translator = translator.lower()\n",
    "    tokens = word_tokenize(translator)\n",
    "    final = [stemmer.stem(tagged_word) for tagged_word in tokens]\n",
    "    return \" \".join(final)\n",
    "\n",
    "training_data['descriptionStemmed'] = training_data['description'].apply(lambda row: stemLine(row))"
   ]
  },
  {
   "cell_type": "markdown",
   "metadata": {},
   "source": [
    "### Binary True/False Conditions"
   ]
  },
  {
   "cell_type": "code",
   "execution_count": 6,
   "metadata": {},
   "outputs": [],
   "source": [
    "#Binary\n",
    "name_keywords = r'bot|b0t|papers'\n",
    "stemmedKeywords = r'bot|b0t|random|#botally|creat|thi|time|//|botal|pubm|made|im|gener|day|everi|paper|follow|tweet|word'\n",
    "keywords = r'bot|b0t|papers|#botally|follow|every|made|//|random|day|daily|tweet|tweets|made'\n",
    "\n",
    "training_data['name_binary'] = training_data.name.str.contains(keywords, case=False, na=False)\n",
    "training_data['screen_name_binary'] = training_data.screen_name.str.contains(keywords, case=False, na=False)\n",
    "\n",
    "training_data['description_binarySTEM'] = training_data.description.str.contains(stemmedKeywords, case=False, na=False)\n",
    "\n",
    "training_data['description_binary'] = training_data.description.str.contains(keywords, case=False, na=False)\n",
    "#training_data['status_binary'] = training_data.status.str.contains(keywords, case=False, na=False)\n",
    "\n",
    "training_data['listed_count_binary'] = (training_data.listed_count>20000)==False"
   ]
  },
  {
   "cell_type": "markdown",
   "metadata": {},
   "source": [
    "# Global Classifier Functions"
   ]
  },
  {
   "cell_type": "code",
   "execution_count": 7,
   "metadata": {},
   "outputs": [],
   "source": [
    "# Using Features create the test and traing X and Y\n",
    "def initiateXY(features):\n",
    "    # set X to all data fields and Y to bot field\n",
    "    x = training_data[features].iloc[:, :-1] # x is all data\n",
    "    y = training_data[features].iloc[:, -1] # y is bot bool\n",
    "    return x, y"
   ]
  },
  {
   "cell_type": "markdown",
   "metadata": {},
   "source": [
    "# Classifiers"
   ]
  },
  {
   "cell_type": "markdown",
   "metadata": {},
   "source": [
    "### Naive Bayes"
   ]
  },
  {
   "cell_type": "code",
   "execution_count": 8,
   "metadata": {
    "scrolled": true
   },
   "outputs": [
    {
     "data": {
      "image/png": "[encoded data removed]",
      "text/plain": [
       "<Figure size 360x360 with 1 Axes>"
      ]
     },
     "metadata": {
      "needs_background": "light"
     },
     "output_type": "display_data"
    }
   ],
   "source": [
    "    features = getFeatureSet(3)\n",
    "    x, y = initiateXY(features)\n",
    "    \n",
    "    nb = MultinomialNB(alpha=0.00000000001)\n",
    "    lr = LogisticRegression(random_state=10, solver='lbfgs',multi_class='multinomial', C=0.00001)\n",
    "    sv = svm.SVC(gamma='auto', probability=True, C=10)\n",
    "    dt = DecisionTreeClassifier(criterion='entropy', min_samples_leaf=2, max_depth=10)\n",
    "    rf = RandomForestClassifier(criterion='entropy', max_depth=10, min_samples_leaf=1, n_estimators=1000)\n",
    "\n",
    "    kf = KFold(n_splits=10)\n",
    "\n",
    "    tprs = []\n",
    "    base_fpr = np.linspace(0, 1, 101)\n",
    "    plt.figure(figsize=(5, 5))\n",
    "\n",
    "    #NB --------------------------\n",
    "    \n",
    "    for train_index, test_index in kf.split(x):\n",
    "        X_train, X_test = x.iloc[train_index], x.iloc[test_index]\n",
    "        y_train, y_test = y.iloc[train_index], y.iloc[test_index]\n",
    "\n",
    "        model = nb.fit(X_train, y_train)\n",
    "        y_score = model.predict_proba(X_test)\n",
    "        fpr, tpr, _ = roc_curve(y_test, y_score[:, 1])\n",
    "\n",
    "        tpr = interp(base_fpr, fpr, tpr)\n",
    "        tpr[0] = 0.0\n",
    "        tprs.append(tpr)\n",
    "            \n",
    "    tprs = np.array(tprs)\n",
    "    mean_tprs = tprs.mean(axis=0)\n",
    "    std = tprs.std(axis=0)\n",
    "\n",
    "    mean_tprs[-1] = 1.0\n",
    "    mean_auc = auc(base_fpr, mean_tprs)\n",
    "\n",
    "    tprs_upper = np.minimum(mean_tprs + std, 1)\n",
    "    tprs_lower = mean_tprs - std\n",
    "\n",
    "    plt.plot(base_fpr, mean_tprs, 'c', label=r'NB Mean AUC = %0.2f' % (mean_auc))\n",
    "    \n",
    "    #SVM --------------------------\n",
    "    \n",
    "    tprs = []\n",
    "    base_fpr = np.linspace(0, 1, 101)\n",
    "    \n",
    "    for train_index, test_index in kf.split(x):\n",
    "        X_train, X_test = x.iloc[train_index], x.iloc[test_index]\n",
    "        y_train, y_test = y.iloc[train_index], y.iloc[test_index]\n",
    "\n",
    "        model = sv.fit(X_train, y_train)\n",
    "        y_score = model.predict_proba(X_test)\n",
    "        fpr, tpr, _ = roc_curve(y_test, y_score[:, 1])\n",
    "\n",
    "        tpr = interp(base_fpr, fpr, tpr)\n",
    "        tpr[0] = 0.0\n",
    "        tprs.append(tpr)\n",
    "            \n",
    "    tprs = np.array(tprs)\n",
    "    mean_tprs = tprs.mean(axis=0)\n",
    "    std = tprs.std(axis=0)\n",
    "\n",
    "    mean_tprs[-1] = 1.0\n",
    "    mean_auc = auc(base_fpr, mean_tprs)\n",
    "\n",
    "    tprs_upper = np.minimum(mean_tprs + std, 1)\n",
    "    tprs_lower = mean_tprs - std\n",
    "\n",
    "    plt.plot(base_fpr, mean_tprs, 'g', label=r'SVM Mean AUC = %0.2f' % (mean_auc))\n",
    "    \n",
    "    #LR --------------------------\n",
    "    \n",
    "    tprs = []\n",
    "    base_fpr = np.linspace(0, 1, 101)\n",
    "    \n",
    "    for train_index, test_index in kf.split(x):\n",
    "        X_train, X_test = x.iloc[train_index], x.iloc[test_index]\n",
    "        y_train, y_test = y.iloc[train_index], y.iloc[test_index]\n",
    "\n",
    "        model = lr.fit(X_train, y_train)\n",
    "        y_score = model.predict_proba(X_test)\n",
    "        fpr, tpr, _ = roc_curve(y_test, y_score[:, 1])\n",
    "\n",
    "        tpr = interp(base_fpr, fpr, tpr)\n",
    "        tpr[0] = 0.0\n",
    "        tprs.append(tpr)\n",
    "            \n",
    "    tprs = np.array(tprs)\n",
    "    mean_tprs = tprs.mean(axis=0)\n",
    "    std = tprs.std(axis=0)\n",
    "\n",
    "    mean_tprs[-1] = 1.0\n",
    "    mean_auc = auc(base_fpr, mean_tprs)\n",
    "\n",
    "    tprs_upper = np.minimum(mean_tprs + std, 1)\n",
    "    tprs_lower = mean_tprs - std\n",
    "\n",
    "    plt.plot(base_fpr, mean_tprs, 'y', label=r'LR Mean AUC = %0.2f' % (mean_auc))\n",
    "    \n",
    "    \n",
    "    #DT --------------------------\n",
    "    \n",
    "    tprs = []\n",
    "    base_fpr = np.linspace(0, 1, 101)\n",
    "    \n",
    "    for train_index, test_index in kf.split(x):\n",
    "        X_train, X_test = x.iloc[train_index], x.iloc[test_index]\n",
    "        y_train, y_test = y.iloc[train_index], y.iloc[test_index]\n",
    "\n",
    "        model = dt.fit(X_train, y_train)\n",
    "        y_score = model.predict_proba(X_test)\n",
    "        fpr, tpr, _ = roc_curve(y_test, y_score[:, 1])\n",
    "\n",
    "        tpr = interp(base_fpr, fpr, tpr)\n",
    "        tpr[0] = 0.0\n",
    "        tprs.append(tpr)\n",
    "            \n",
    "    tprs = np.array(tprs)\n",
    "    mean_tprs = tprs.mean(axis=0)\n",
    "    std = tprs.std(axis=0)\n",
    "\n",
    "    mean_tprs[-1] = 1.0\n",
    "    mean_auc = auc(base_fpr, mean_tprs)\n",
    "\n",
    "    tprs_upper = np.minimum(mean_tprs + std, 1)\n",
    "    tprs_lower = mean_tprs - std\n",
    "\n",
    "    plt.plot(base_fpr, mean_tprs, 'b', label=r'DT Mean AUC = %0.2f' % (mean_auc))\n",
    "    \n",
    "    #RF --------------------------\n",
    "    \n",
    "    tprs = []\n",
    "    base_fpr = np.linspace(0, 1, 101)\n",
    "    \n",
    "    for train_index, test_index in kf.split(x):\n",
    "        X_train, X_test = x.iloc[train_index], x.iloc[test_index]\n",
    "        y_train, y_test = y.iloc[train_index], y.iloc[test_index]\n",
    "\n",
    "        model = rf.fit(X_train, y_train)\n",
    "        y_score = model.predict_proba(X_test)\n",
    "        fpr, tpr, _ = roc_curve(y_test, y_score[:, 1])\n",
    "\n",
    "        tpr = interp(base_fpr, fpr, tpr)\n",
    "        tpr[0] = 0.0\n",
    "        tprs.append(tpr)\n",
    "            \n",
    "    tprs = np.array(tprs)\n",
    "    mean_tprs = tprs.mean(axis=0)\n",
    "    std = tprs.std(axis=0)\n",
    "\n",
    "    mean_tprs[-1] = 1.0\n",
    "    mean_auc = auc(base_fpr, mean_tprs)\n",
    "\n",
    "    tprs_upper = np.minimum(mean_tprs + std, 1)\n",
    "    tprs_lower = mean_tprs - std\n",
    "\n",
    "    plt.plot(base_fpr, mean_tprs, 'r', label=r'RF Mean AUC = %0.2f' % (mean_auc))\n",
    "\n",
    "    #PLOT ------------------------\n",
    "    \n",
    "    plt.plot([0, 1], [0, 1],'r--')\n",
    "    plt.xlim([-0.01, 1.01])\n",
    "    plt.ylim([-0.01, 1.01])\n",
    "    plt.ylabel('True Positive Rate')\n",
    "    plt.xlabel('False Positive Rate')\n",
    "    plt.axes().set_aspect('equal', 'datalim')\n",
    "    plt.title(\"Classifiers ROC Curve\")\n",
    "    plt.legend(loc = 'lower right')\n",
    "    plt.savefig(path + str(date) + \" Classifiers ROC Curve\" + '.png')\n",
    "    plt.show()"
   ]
  },
  {
   "cell_type": "code",
   "execution_count": null,
   "metadata": {},
   "outputs": [],
   "source": []
  }
 ],
 "metadata": {
  "kernelspec": {
   "display_name": "Python 3",
   "language": "python",
   "name": "python3"
  },
  "language_info": {
   "codemirror_mode": {
    "name": "ipython",
    "version": 3
   },
   "file_extension": ".py",
   "mimetype": "text/x-python",
   "name": "python",
   "nbconvert_exporter": "python",
   "pygments_lexer": "ipython3",
   "version": "3.7.0"
  }
 },
 "nbformat": 4,
 "nbformat_minor": 2
}
